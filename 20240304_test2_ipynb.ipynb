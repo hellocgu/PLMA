{
  "nbformat": 4,
  "nbformat_minor": 0,
  "metadata": {
    "colab": {
      "provenance": []
    },
    "kernelspec": {
      "name": "python3",
      "display_name": "Python 3"
    },
    "language_info": {
      "name": "python"
    }
  },
  "cells": [
    {
      "cell_type": "code",
      "execution_count": null,
      "metadata": {
        "colab": {
          "base_uri": "https://localhost:8080/"
        },
        "id": "bMzz1_2ifqZc",
        "outputId": "269ae28d-5078-4eed-a61e-6189495c4e0b"
      },
      "outputs": [
        {
          "output_type": "stream",
          "name": "stdout",
          "text": [
            "Hello world\n",
            "程式語言及其醫學應用\n"
          ]
        }
      ],
      "source": [
        "x=\"Hello world\"\n",
        "print(x)\n",
        "y=\"程式語言及其醫學應用\"\n",
        "print(y)"
      ]
    },
    {
      "cell_type": "code",
      "source": [],
      "metadata": {
        "id": "K8-aqkxJa2r4"
      },
      "execution_count": null,
      "outputs": []
    }
  ]
}