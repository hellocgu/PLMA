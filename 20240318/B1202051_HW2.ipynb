{
  "nbformat": 4,
  "nbformat_minor": 0,
  "metadata": {
    "colab": {
      "provenance": []
    },
    "kernelspec": {
      "name": "python3",
      "display_name": "Python 3"
    },
    "language_info": {
      "name": "python"
    }
  },
  "cells": [
    {
      "cell_type": "code",
      "execution_count": 9,
      "metadata": {
        "colab": {
          "base_uri": "https://localhost:8080/"
        },
        "id": "DDupM6qWd7jm",
        "outputId": "653cc61c-449f-41bf-bb51-3990f27d5449"
      },
      "outputs": [
        {
          "output_type": "stream",
          "name": "stdout",
          "text": [
            "A\n",
            "['K', 'H', 'U']\n"
          ]
        }
      ],
      "source": [
        "a='C,B,A'\n",
        "b=['F','G','H']\n",
        "c=a.split(',')\n",
        "d=c+b\n",
        "d[0]='K'\n",
        "print(d.pop(2))\n",
        "del d[1:4]\n",
        "d.append('U')\n",
        "print(d)\n"
      ]
    },
    {
      "cell_type": "code",
      "source": [
        "a=input('請輸入一個八位數的數字')\n",
        "print(a[4])"
      ],
      "metadata": {
        "colab": {
          "base_uri": "https://localhost:8080/"
        },
        "id": "378mXzP5fD5b",
        "outputId": "d8ec8d40-6960-489a-d94a-2fefc4d9f05c"
      },
      "execution_count": 1,
      "outputs": [
        {
          "output_type": "stream",
          "name": "stdout",
          "text": [
            "請輸入一個八位數的數字12345678\n",
            "5\n"
          ]
        }
      ]
    },
    {
      "cell_type": "code",
      "source": [
        "a='My ID is B1202051'\n",
        "b=a.split(' ')\n",
        "print(len(b))\n",
        "print(len(b[3]))"
      ],
      "metadata": {
        "colab": {
          "base_uri": "https://localhost:8080/"
        },
        "id": "dxqjn9HNfaIL",
        "outputId": "28682fda-42b3-40ec-e9e8-131fc8e77116"
      },
      "execution_count": 16,
      "outputs": [
        {
          "output_type": "stream",
          "name": "stdout",
          "text": [
            "4\n",
            "8\n"
          ]
        }
      ]
    },
    {
      "cell_type": "code",
      "source": [
        "a=\"I'm a student\"\n",
        "b=a.split()\n",
        "print(b[0][2])"
      ],
      "metadata": {
        "colab": {
          "base_uri": "https://localhost:8080/"
        },
        "id": "aHt8759_jNm7",
        "outputId": "30ad5a57-2105-4404-ee5b-37c9b6839796"
      },
      "execution_count": 17,
      "outputs": [
        {
          "output_type": "stream",
          "name": "stdout",
          "text": [
            "m\n"
          ]
        }
      ]
    }
  ]
}