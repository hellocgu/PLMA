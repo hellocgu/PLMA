{
  "nbformat": 4,
  "nbformat_minor": 0,
  "metadata": {
    "colab": {
      "provenance": []
    },
    "kernelspec": {
      "name": "python3",
      "display_name": "Python 3"
    },
    "language_info": {
      "name": "python"
    }
  },
  "cells": [
    {
      "cell_type": "code",
      "execution_count": null,
      "metadata": {
        "colab": {
          "base_uri": "https://localhost:8080/"
        },
        "id": "x9krFcKeJeRD",
        "outputId": "d2ac6ac6-933a-4d73-dddd-c1329ed8a504"
      },
      "outputs": [
        {
          "output_type": "stream",
          "name": "stdout",
          "text": [
            " I'm a student\n"
          ]
        }
      ],
      "source": [
        "print(\" I'm a student\")"
      ]
    },
    {
      "cell_type": "code",
      "source": [
        "print(\"請輸入A(x1, y1)\")\n",
        "x1=int(input(\"x1=\"))\n",
        "y1=int(input(\"y1=\"))\n",
        "print(\"A(x1, y1)=\", (x1, y1))\n",
        "print(\"請輸入B(x2, y2)\")\n",
        "x2=int(input(\"x2=\"))\n",
        "y2=int(input(\"y2=\"))\n",
        "print(\"B(x2, y2)=\", (x2, y2))\n",
        "a=((x1-x2)**2+(y1-y2)**2)**1/2\n",
        "print(\"A和B的距離為\", a)"
      ],
      "metadata": {
        "colab": {
          "base_uri": "https://localhost:8080/"
        },
        "id": "S1yQsn-aJ_w5",
        "outputId": "545c9e89-90aa-48a8-9341-c0d6b10681b6"
      },
      "execution_count": null,
      "outputs": [
        {
          "output_type": "stream",
          "name": "stdout",
          "text": [
            "請輸入A(x1, y1)\n",
            "x1=1\n",
            "y1=2\n",
            "A(x1, y1)= (1, 2)\n",
            "請輸入B(x2, y2)\n",
            "x2=3\n",
            "y2=4\n",
            "B(x2, y2)= (3, 4)\n",
            "A和B的距離為 4.0\n"
          ]
        }
      ]
    },
    {
      "cell_type": "code",
      "source": [
        "h=int(input(\"請輸入身高(cm)\"))/100\n",
        "w=int(input(\"請輸入體重(kg)\"))\n",
        "print(\"BMI值為\", w/h**2)"
      ],
      "metadata": {
        "colab": {
          "base_uri": "https://localhost:8080/"
        },
        "id": "OEdVmvGrK-nT",
        "outputId": "70070652-a312-4824-bff1-19da333080d0"
      },
      "execution_count": null,
      "outputs": [
        {
          "output_type": "stream",
          "name": "stdout",
          "text": [
            "請輸入身高(cm)170\n",
            "請輸入體重(kg)70\n",
            "BMI值為 24.221453287197235\n"
          ]
        }
      ]
    }
  ]
}