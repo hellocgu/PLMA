{
  "nbformat": 4,
  "nbformat_minor": 0,
  "metadata": {
    "colab": {
      "provenance": []
    },
    "kernelspec": {
      "name": "python3",
      "display_name": "Python 3"
    },
    "language_info": {
      "name": "python"
    }
  },
  "cells": [
    {
      "cell_type": "code",
      "execution_count": 11,
      "metadata": {
        "id": "rhOSlHuQjl_K",
        "colab": {
          "base_uri": "https://localhost:8080/"
        },
        "outputId": "031a36b8-4bba-4d82-f913-2f7ad76ff7e6"
      },
      "outputs": [
        {
          "output_type": "stream",
          "name": "stdout",
          "text": [
            "請輸入身高(cm)160\n",
            "請輸入體重(kg)61.45\n",
            "BMI： 24.003906249999996\n",
            "體位：過重\n"
          ]
        }
      ],
      "source": [
        "h=float(input(\"請輸入身高(cm)\"))/100\n",
        "w=float(input(\"請輸入體重(kg)\"))\n",
        "BMI=w/h**2\n",
        "print(\"BMI：\",BMI)\n",
        "if BMI<18.5:\n",
        "  print('體位：過輕')\n",
        "elif 18.5<=BMI<24:\n",
        "  print('體位：適中')\n",
        "elif 24<=BMI<27:\n",
        "  print('體位：過重')\n",
        "else:\n",
        "  print('體位：肥胖')\n"
      ]
    },
    {
      "cell_type": "code",
      "source": [
        "a=int(input('請輸入第一個數字'))\n",
        "b=input('請輸入運算符號')\n",
        "c=int(input('請輸入第二個數字'))\n",
        "if b == '+':\n",
        "  print(a+c)\n",
        "elif b == '-':\n",
        "  print(a-c)\n",
        "elif b == '/':\n",
        "  print(a/c)\n",
        "elif b =='*':\n",
        "  print(a*c)\n"
      ],
      "metadata": {
        "colab": {
          "base_uri": "https://localhost:8080/"
        },
        "id": "afLQlkdjmAoO",
        "outputId": "1d3ac641-537a-4dfe-f3d1-cbafc3093a11"
      },
      "execution_count": 8,
      "outputs": [
        {
          "output_type": "stream",
          "name": "stdout",
          "text": [
            "請輸入第一個數字4\n",
            "請輸入運算符號+\n",
            "請輸入第二個數字3\n",
            "7\n"
          ]
        }
      ]
    }
  ]
}