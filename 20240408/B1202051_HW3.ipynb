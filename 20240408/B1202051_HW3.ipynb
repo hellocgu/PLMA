{
  "nbformat": 4,
  "nbformat_minor": 0,
  "metadata": {
    "colab": {
      "provenance": []
    },
    "kernelspec": {
      "name": "python3",
      "display_name": "Python 3"
    },
    "language_info": {
      "name": "python"
    }
  },
  "cells": [
    {
      "cell_type": "code",
      "execution_count": 11,
      "metadata": {
        "colab": {
          "base_uri": "https://localhost:8080/"
        },
        "id": "3vwaqo1arBUY",
        "outputId": "333942bf-3fa7-42f3-c732-0ed98e8e4d31"
      },
      "outputs": [
        {
          "output_type": "stream",
          "name": "stdout",
          "text": [
            "請輸入年分1704\n",
            "閏年\n"
          ]
        }
      ],
      "source": [
        "a=int(input('請輸入年分'))\n",
        "if a<=1582 and a%4==0 :\n",
        "  print('閏年')\n",
        "elif a>1582 and a%4==0 :\n",
        "  if a%400==0:\n",
        "    print('閏年')\n",
        "  elif a%100==0:\n",
        "    print('平年')\n",
        "  else:\n",
        "    print('閏年')\n",
        "else:\n",
        "  print('平年')\n",
        "\n",
        ""
      ]
    }
  ]
}