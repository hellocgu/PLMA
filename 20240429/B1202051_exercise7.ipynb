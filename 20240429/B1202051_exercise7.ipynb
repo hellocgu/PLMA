{
  "nbformat": 4,
  "nbformat_minor": 0,
  "metadata": {
    "colab": {
      "provenance": []
    },
    "kernelspec": {
      "name": "python3",
      "display_name": "Python 3"
    },
    "language_info": {
      "name": "python"
    }
  },
  "cells": [
    {
      "cell_type": "code",
      "execution_count": 26,
      "metadata": {
        "colab": {
          "base_uri": "https://localhost:8080/"
        },
        "id": "MQRC7YgftT8R",
        "outputId": "aab967c8-c233-4cea-a161-2e95757278fc"
      },
      "outputs": [
        {
          "output_type": "stream",
          "name": "stdout",
          "text": [
            "請輸入聖誕樹高度(至少為7)7\n",
            "        \n",
            "       *\n",
            "      ***\n",
            "     *****\n",
            "    *******\n",
            "   *********\n",
            "  ***********\n",
            " *************\n",
            "      ***\n",
            "      ***\n",
            "      ***\n",
            "      ***\n",
            "      ***\n",
            "None\n"
          ]
        }
      ],
      "source": [
        "h=int(input('請輸入聖誕樹高度(至少為7)'))\n",
        "def f(h):\n",
        "  for a in range(h+1):\n",
        "    print(' '*(h-a),'*'*(2*a-1))\n",
        "\n",
        "  for b in range(5):\n",
        "    d='***'\n",
        "    print(' '*(h-2),d)\n",
        "print(f(h))\n",
        ""
      ]
    },
    {
      "cell_type": "code",
      "source": [
        "try:\n",
        "  h=float(input(\"請輸入身高(cm)\"))/100\n",
        "  w=float(input(\"請輸入體重(kg)\"))\n",
        "  def f(h,w):\n",
        "    return w/h**2\n",
        "\n",
        "  print(\"BMI：\",f(h,w))\n",
        "  if f(h,w)<18.5:\n",
        "    print('體位：過輕')\n",
        "  elif 18.5<=f(h,w)<24:\n",
        "    print('體位：適中')\n",
        "  elif 24<=f(h,w)<27:\n",
        "    print('體位：過重')\n",
        "  else:\n",
        "    print('體位：肥胖')\n",
        "except:\n",
        "  print('輸入內容錯誤')"
      ],
      "metadata": {
        "colab": {
          "base_uri": "https://localhost:8080/"
        },
        "id": "qumQpsVpt-FB",
        "outputId": "87a8cc02-7909-47b7-8296-abf737a585cf"
      },
      "execution_count": 25,
      "outputs": [
        {
          "output_type": "stream",
          "name": "stdout",
          "text": [
            "請輸入身高(cm)160\n",
            "請輸入體重(kg)l\n",
            "輸入內容錯誤\n"
          ]
        }
      ]
    }
  ]
}