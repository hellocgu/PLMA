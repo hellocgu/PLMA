{
  "nbformat": 4,
  "nbformat_minor": 0,
  "metadata": {
    "colab": {
      "provenance": []
    },
    "kernelspec": {
      "name": "python3",
      "display_name": "Python 3"
    },
    "language_info": {
      "name": "python"
    }
  },
  "cells": [
    {
      "cell_type": "code",
      "execution_count": null,
      "metadata": {
        "colab": {
          "base_uri": "https://localhost:8080/"
        },
        "id": "WFWYZYzsolaA",
        "outputId": "844c1011-5c61-40bf-b3a8-1e7f3500c7e0"
      },
      "outputs": [
        {
          "output_type": "stream",
          "name": "stdout",
          "text": [
            "1  x  1  =  1\t2  x  1  =  2\t3  x  1  =  3\t4  x  1  =  4\t5  x  1  =  5\t6  x  1  =  6\t7  x  1  =  7\t8  x  1  =  8\t9  x  1  =  9\t\n",
            "\n",
            "1  x  2  =  2\t2  x  2  =  4\t3  x  2  =  6\t4  x  2  =  8\t5  x  2  =  10\t6  x  2  =  12\t7  x  2  =  14\t8  x  2  =  16\t9  x  2  =  18\t\n",
            "\n",
            "1  x  3  =  3\t2  x  3  =  6\t3  x  3  =  9\t4  x  3  =  12\t5  x  3  =  15\t6  x  3  =  18\t7  x  3  =  21\t8  x  3  =  24\t9  x  3  =  27\t\n",
            "\n",
            "1  x  4  =  4\t2  x  4  =  8\t3  x  4  =  12\t4  x  4  =  16\t5  x  4  =  20\t6  x  4  =  24\t7  x  4  =  28\t8  x  4  =  32\t9  x  4  =  36\t\n",
            "\n",
            "1  x  5  =  5\t2  x  5  =  10\t3  x  5  =  15\t4  x  5  =  20\t5  x  5  =  25\t6  x  5  =  30\t7  x  5  =  35\t8  x  5  =  40\t9  x  5  =  45\t\n",
            "\n",
            "1  x  6  =  6\t2  x  6  =  12\t3  x  6  =  18\t4  x  6  =  24\t5  x  6  =  30\t6  x  6  =  36\t7  x  6  =  42\t8  x  6  =  48\t9  x  6  =  54\t\n",
            "\n",
            "1  x  7  =  7\t2  x  7  =  14\t3  x  7  =  21\t4  x  7  =  28\t5  x  7  =  35\t6  x  7  =  42\t7  x  7  =  49\t8  x  7  =  56\t9  x  7  =  63\t\n",
            "\n",
            "1  x  8  =  8\t2  x  8  =  16\t3  x  8  =  24\t4  x  8  =  32\t5  x  8  =  40\t6  x  8  =  48\t7  x  8  =  56\t8  x  8  =  64\t9  x  8  =  72\t\n",
            "\n",
            "1  x  9  =  9\t2  x  9  =  18\t3  x  9  =  27\t4  x  9  =  36\t5  x  9  =  45\t6  x  9  =  54\t7  x  9  =  63\t8  x  9  =  72\t9  x  9  =  81\t\n",
            "\n"
          ]
        }
      ],
      "source": [
        "a=1\n",
        "b=1\n",
        "while b<=9:\n",
        "  while a<=9:\n",
        "    print(a,' x ',b,' = ',a*b,end='\\t')\n",
        "    a+=1\n",
        "  print('\\n')\n",
        "  a=1\n",
        "  b+=1\n"
      ]
    },
    {
      "cell_type": "code",
      "source": [
        "import random\n",
        "answer = random.sample(range(1,10),4)\n",
        "print('答案：',answer)\n",
        "a=b=n=m=0\n",
        "while a != 4:\n",
        "  a=b=n=0\n",
        "  guessnumber = input('請輸入4個數字(不會重複)')\n",
        "  guess = list(guessnumber)\n",
        "  if len(guess)>4:\n",
        "    guessnumber = input('輸入數字過多，請輸入4個數字(不會重複)')\n",
        "    guess = list(guessnumber)\n",
        "  while n <= 3:\n",
        "    if int(guess[n]) == answer[n]:\n",
        "      a+=1\n",
        "    elif int(guess[n]) in answer:\n",
        "      b+=1\n",
        "    n+=1\n",
        "  print(guessnumber,':',a,'A',b,'B')\n",
        "  m+=1\n",
        "if a ==4:\n",
        "  print('答對了!總共猜了',m+1,'次')\n"
      ],
      "metadata": {
        "colab": {
          "base_uri": "https://localhost:8080/"
        },
        "id": "90VQvO-ps_ei",
        "outputId": "dcf05b9f-0822-473e-f280-6af9ed2d912d"
      },
      "execution_count": null,
      "outputs": [
        {
          "output_type": "stream",
          "name": "stdout",
          "text": [
            "答案： [6, 2, 3, 9]\n",
            "請輸入4個數字(不會重複)56789\n",
            "輸入數字過多，請輸入4個數字(不會重複)3156\n",
            "3156 : 0 A 2 B\n",
            "請輸入4個數字(不會重複)6231\n",
            "6231 : 3 A 0 B\n",
            "請輸入4個數字(不會重複)6234\n",
            "6234 : 3 A 0 B\n",
            "請輸入4個數字(不會重複)6238\n",
            "6238 : 3 A 0 B\n",
            "請輸入4個數字(不會重複)6237\n",
            "6237 : 3 A 0 B\n",
            "請輸入4個數字(不會重複)6239\n",
            "6239 : 4 A 0 B\n",
            "答對了!總共猜了 8 次\n"
          ]
        }
      ]
    }
  ]
}
