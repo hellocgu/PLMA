{
  "nbformat": 4,
  "nbformat_minor": 0,
  "metadata": {
    "colab": {
      "provenance": []
    },
    "kernelspec": {
      "name": "python3",
      "display_name": "Python 3"
    },
    "language_info": {
      "name": "python"
    }
  },
  "cells": [
    {
      "cell_type": "code",
      "execution_count": 1,
      "metadata": {
        "id": "ERk_e8WcePqh",
        "colab": {
          "base_uri": "https://localhost:8080/"
        },
        "outputId": "06b5dfe7-e6b2-46c7-e24f-24197d2f6c64"
      },
      "outputs": [
        {
          "output_type": "stream",
          "name": "stdout",
          "text": [
            "88.33333333333333\n",
            "{'姓名': '賴宏瑋', '性別': '男', '學號': 'M1129020'}\n",
            "95.0\n",
            "{'姓名': '許珈綺', '性別': '女', '學號': 'M1229001'}\n"
          ]
        }
      ],
      "source": [
        "a={'姓名':'賴宏瑋','性別':'男','作業分數':[95,100,90]}\n",
        "b={'學號':'M1129020'}\n",
        "c={**a,**b}\n",
        "import copy\n",
        "d=copy.deepcopy(c)\n",
        "c['作業分數'][1]=80\n",
        "d['姓名']='許珈綺'\n",
        "d['性別']='女'\n",
        "d['學號']='M1229001'\n",
        "e=c.pop('作業分數')\n",
        "print((e[0]+e[1]+e[2])/3)\n",
        "print(c)\n",
        "f=d.pop('作業分數')\n",
        "print((f[0]+f[1]+f[2])/3)\n",
        "print(d)"
      ]
    },
    {
      "cell_type": "code",
      "source": [
        "a=[100,50,45,60,90,95,80,50]\n",
        "a.insert(0,88)\n",
        "a[2:5]=[70,50]\n",
        "a.remove(50)\n",
        "b=a.pop(0)\n",
        "c=a.pop(5)\n",
        "print(b+c)"
      ],
      "metadata": {
        "colab": {
          "base_uri": "https://localhost:8080/"
        },
        "id": "k1jBDC2ghM7u",
        "outputId": "e38731d3-3bd8-4093-ca38-882a50bde36a"
      },
      "execution_count": 4,
      "outputs": [
        {
          "output_type": "stream",
          "name": "stdout",
          "text": [
            "138\n"
          ]
        }
      ]
    },
    {
      "cell_type": "code",
      "source": [
        "A=347//3\n",
        "print(A)\n",
        "B=374%3\n",
        "print(B)\n",
        "print(A**B)"
      ],
      "metadata": {
        "colab": {
          "base_uri": "https://localhost:8080/"
        },
        "id": "ALvwuXI8jRWO",
        "outputId": "946c217a-09b8-4498-d8b0-0ed11378a514"
      },
      "execution_count": 5,
      "outputs": [
        {
          "output_type": "stream",
          "name": "stdout",
          "text": [
            "115\n",
            "2\n",
            "13225\n"
          ]
        }
      ]
    }
  ]
}